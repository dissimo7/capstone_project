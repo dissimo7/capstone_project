{
 "cells": [
  {
   "cell_type": "code",
   "execution_count": 1,
   "id": "64cdc4d6",
   "metadata": {},
   "outputs": [
    {
     "name": "stdout",
     "output_type": "stream",
     "text": [
      "Requirement already satisfied: mysql-connector-python in c:\\users\\ethan\\appdata\\local\\programs\\python\\python39\\lib\\site-packages (8.0.33)\n",
      "Requirement already satisfied: protobuf<=3.20.3,>=3.11.0 in c:\\users\\ethan\\appdata\\local\\programs\\python\\python39\\lib\\site-packages (from mysql-connector-python) (3.20.3)\n"
     ]
    },
    {
     "name": "stderr",
     "output_type": "stream",
     "text": [
      "WARNING: You are using pip version 21.1; however, version 23.1.2 is available.\n",
      "You should consider upgrading via the 'c:\\users\\ethan\\appdata\\local\\programs\\python\\python39\\python.exe -m pip install --upgrade pip' command.\n"
     ]
    }
   ],
   "source": [
    "!pip install mysql-connector-python"
   ]
  },
  {
   "cell_type": "code",
   "execution_count": 1,
   "id": "5860b58e",
   "metadata": {},
   "outputs": [],
   "source": [
    "import mysql.connector as connector\n",
    "\n",
    "db_config = {\n",
    "    \"database\": \"LittleLemonDB\",\n",
    "    \"user\": \"capstone\",\n",
    "    \"password\": \"!@Capstone_password\"\n",
    "}\n",
    "\n",
    "connection = connector.connect(\n",
    "    host = \"localhost\",\n",
    "    **db_config\n",
    ")\n",
    "\n",
    "cursor = connection.cursor()"
   ]
  },
  {
   "cell_type": "code",
   "execution_count": 2,
   "id": "01b1b41d",
   "metadata": {},
   "outputs": [
    {
     "name": "stdout",
     "output_type": "stream",
     "text": [
      "('Bookings',)\n",
      "('Customers',)\n",
      "('Employees',)\n",
      "('Menu',)\n",
      "('MenuItems',)\n",
      "('OrderStatus',)\n",
      "('Orders',)\n",
      "('OrdersView',)\n"
     ]
    }
   ],
   "source": [
    "show_query = \"SHOW TABLES;\"\n",
    "\n",
    "cursor.execute(show_query)\n",
    "results = cursor.fetchall()\n",
    "\n",
    "for result in results:\n",
    "    print(result)"
   ]
  },
  {
   "cell_type": "code",
   "execution_count": 7,
   "id": "217cfa47",
   "metadata": {},
   "outputs": [
    {
     "name": "stdout",
     "output_type": "stream",
     "text": [
      "('FullName', 'PhoneNo', 'Email', 'Cost')\n"
     ]
    }
   ],
   "source": [
    "select_query = \"\"\"\n",
    "    SELECT CONCAT(FirstName, LastName) AS FullNamee, PhoneNoo, Emaill, Cost\n",
    "    FROM Customers\n",
    "    INNER JOIN Bookings ON Customers.CustomerID = Bookings.CustomerID\n",
    "    INNER JOIN Orders ON Bookings.BookingID = Orders.BookingID\n",
    "    WHERE Cost > 60;\n",
    "\"\"\"\n",
    "\n",
    "cursor.execute(select_query)\n",
    "results = cursor.fetchall()\n",
    "col_names = cursor.column_names\n",
    "\n",
    "print(col_names)\n",
    "for result in results:\n",
    "    print(result)"
   ]
  }
 ],
 "metadata": {
  "kernelspec": {
   "display_name": "Python 3 (ipykernel)",
   "language": "python",
   "name": "python3"
  },
  "language_info": {
   "codemirror_mode": {
    "name": "ipython",
    "version": 3
   },
   "file_extension": ".py",
   "mimetype": "text/x-python",
   "name": "python",
   "nbconvert_exporter": "python",
   "pygments_lexer": "ipython3",
   "version": "3.9.1"
  }
 },
 "nbformat": 4,
 "nbformat_minor": 5
}
